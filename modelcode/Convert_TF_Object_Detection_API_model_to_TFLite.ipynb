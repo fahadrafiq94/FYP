{
  "cells": [
    {
      "cell_type": "markdown",
      "metadata": {
        "id": "pHTibyMehTvH"
      },
      "source": [
        "#Convert models trained using TensorFlow Object Detection API to TensorFlow Lite\n"
      ]
    },
    {
      "cell_type": "code",
      "source": [
        "from google.colab import drive\n",
        "drive.mount('/content/drive')"
      ],
      "metadata": {
        "id": "8IOo4uzAPiw7"
      },
      "execution_count": null,
      "outputs": []
    },
    {
      "cell_type": "markdown",
      "metadata": {
        "id": "Ok_Rpv7XNaFJ"
      },
      "source": [
        "## Preparation"
      ]
    },
    {
      "cell_type": "markdown",
      "metadata": {
        "id": "t7CAW5C1cmel"
      },
      "source": [
        "### Install the TFLite Support Library"
      ]
    },
    {
      "cell_type": "code",
      "execution_count": null,
      "metadata": {
        "id": "DwtFa0jSnNU4"
      },
      "outputs": [],
      "source": [
        "!pip install -q tflite_support"
      ]
    },
    {
      "cell_type": "markdown",
      "metadata": {
        "id": "XRfJR9QXctAR"
      },
      "source": [
        "### Install the TensorFlow Object Detection API\n"
      ]
    },
    {
      "cell_type": "code",
      "execution_count": null,
      "metadata": {
        "id": "7PP2P5XAqeI5"
      },
      "outputs": [],
      "source": [
        "import os\n",
        "import pathlib\n",
        "\n",
        "# Clone the tensorflow models repository if it doesn't already exist\n",
        "if \"models\" in pathlib.Path.cwd().parts:\n",
        "  while \"models\" in pathlib.Path.cwd().parts:\n",
        "    os.chdir('..')\n",
        "elif not pathlib.Path('models').exists():\n",
        "  !git clone --depth 1 https://github.com/tensorflow/models"
      ]
    },
    {
      "cell_type": "code",
      "execution_count": null,
      "metadata": {
        "id": "bP6SSh6zqi07"
      },
      "outputs": [],
      "source": [
        "%%bash\n",
        "cd models/research/\n",
        "protoc object_detection/protos/*.proto --python_out=.\n",
        "cp object_detection/packages/tf2/setup.py .\n",
        "pip install -q ."
      ]
    },
    {
      "cell_type": "markdown",
      "metadata": {
        "id": "i0to7aXKc0O9"
      },
      "source": [
        "### Import the necessary libraries"
      ]
    },
    {
      "cell_type": "code",
      "execution_count": null,
      "metadata": {
        "id": "4M8CC1PgqnSf"
      },
      "outputs": [],
      "source": [
        "import matplotlib\n",
        "import matplotlib.pyplot as plt\n",
        "\n",
        "import os\n",
        "import random\n",
        "import io\n",
        "import imageio\n",
        "import glob\n",
        "import scipy.misc\n",
        "import numpy as np\n",
        "from six import BytesIO\n",
        "from PIL import Image, ImageDraw, ImageFont\n",
        "from IPython.display import display, Javascript\n",
        "from IPython.display import Image as IPyImage\n",
        "\n",
        "import tensorflow as tf\n",
        "\n",
        "from object_detection.utils import label_map_util\n",
        "from object_detection.utils import config_util\n",
        "from object_detection.utils import visualization_utils as viz_utils\n",
        "from object_detection.utils import colab_utils\n",
        "from object_detection.utils import config_util\n",
        "from object_detection.builders import model_builder\n",
        "\n",
        "%matplotlib inline"
      ]
    },
    {
      "cell_type": "code",
      "execution_count": null,
      "metadata": {
        "id": "TIY3cxDgsxuZ"
      },
      "outputs": [],
      "source": [
        "# Extract data\n",
        "import zipfile\n",
        "def unzip(filename):\n",
        "  zip_ref = zipfile.ZipFile(filename , \"r\")\n",
        "  zip_ref.extractall()\n",
        "  zip_ref.close()"
      ]
    },
    {
      "cell_type": "code",
      "source": [
        "unzip(\"/content/drive/MyDrive/my_ssd_mobnet_mature_cropped_10.zip\")"
      ],
      "metadata": {
        "id": "7Rct0hFRQ1o9"
      },
      "execution_count": null,
      "outputs": []
    },
    {
      "cell_type": "markdown",
      "metadata": {
        "id": "0gV8vr6nN-z9"
      },
      "source": [
        "## Generate TensorFlow Lite Model"
      ]
    },
    {
      "cell_type": "markdown",
      "metadata": {
        "id": "Z8FjeSmmxpXz"
      },
      "source": [
        "### Step 1: Export TFLite inference graph"
      ]
    },
    {
      "cell_type": "code",
      "execution_count": null,
      "metadata": {
        "id": "ChfN-tzBXqko"
      },
      "outputs": [],
      "source": [
        "!python models/research/object_detection/export_tflite_graph_tf2.py \\\n",
        "    --trained_checkpoint_dir {'my_ssd_mobnet_mature_cropped_10/checkpoint'} \\\n",
        "    --output_directory {'my_ssd_mobnet_mature_cropped_10/tflite'} \\\n",
        "    --pipeline_config_path {'my_ssd_mobnet_mature_cropped_10/pipeline.config'}"
      ]
    },
    {
      "cell_type": "markdown",
      "metadata": {
        "id": "IPr06cZ3OY3H"
      },
      "source": [
        "### Step 2: Convert to TFLite"
      ]
    },
    {
      "cell_type": "code",
      "execution_count": null,
      "metadata": {
        "id": "JMpy3Rlpq-Yq"
      },
      "outputs": [],
      "source": [
        "_TFLITE_MODEL_PATH = \"my_ssd_mobnet_mature_cropped_10/model.tflite\"\n",
        "\n",
        "converter = tf.lite.TFLiteConverter.from_saved_model('my_ssd_mobnet_mature_cropped_10/tflite/saved_model')\n",
        "converter.optimizations = [tf.lite.Optimize.DEFAULT]\n",
        "tflite_model = converter.convert()\n",
        "\n",
        "with open(_TFLITE_MODEL_PATH, 'wb') as f:\n",
        "  f.write(tflite_model)"
      ]
    },
    {
      "cell_type": "markdown",
      "metadata": {
        "id": "fyjlnmaEOtKp"
      },
      "source": [
        "### Step 3: Add Metadata\n",
        "\n",
        "This metadata helps the inference code perform the correct pre & post processing as required by the model."
      ]
    },
    {
      "cell_type": "code",
      "execution_count": null,
      "metadata": {
        "id": "-ecGLG_Ovjcr"
      },
      "outputs": [],
      "source": [
        "# We need to convert the Object Detection API's labelmap into what the Task API needs:\n",
        "# map file for your model if re-trained.\n",
        "_ODT_LABEL_MAP_PATH = 'label_map.pbtxt'\n",
        "_TFLITE_LABEL_PATH = \"my_ssd_mobnet_mature_cropped_10/tflite_label_map.txt\"\n",
        "\n",
        "category_index = label_map_util.create_category_index_from_labelmap(\n",
        "    _ODT_LABEL_MAP_PATH)\n",
        "f = open(_TFLITE_LABEL_PATH, 'w')\n",
        "for class_id in range(1, 91):\n",
        "  if class_id not in category_index:\n",
        "    f.write('???\\n')\n",
        "    continue\n",
        "  name = category_index[class_id]['name']\n",
        "  f.write(name+'\\n')\n",
        "f.close()"
      ]
    },
    {
      "cell_type": "markdown",
      "metadata": {
        "id": "YJSyXq5Qss9X"
      },
      "source": [
        "Then we'll add the label map and other necessary metadata (e.g. normalization config) to the TFLite model.\n",
        "\n",
        "As the `SSD MobileNet V2 FPNLite  model take input image with pixel value in the range of [-1..1]  we need to set `norm_mean = 127.5` and `norm_std = 127.5`."
      ]
    },
    {
      "cell_type": "code",
      "execution_count": null,
      "metadata": {
        "id": "CRQpfDAWsPeK"
      },
      "outputs": [],
      "source": [
        "from tflite_support.metadata_writers import object_detector\n",
        "from tflite_support.metadata_writers import writer_utils\n",
        "\n",
        "_TFLITE_MODEL_WITH_METADATA_PATH = \"my_ssd_mobnet_mature_cropped_10/model_with_metadata.tflite\"\n",
        "\n",
        "writer = object_detector.MetadataWriter.create_for_inference(\n",
        "    writer_utils.load_file(_TFLITE_MODEL_PATH), input_norm_mean=[127.5], \n",
        "    input_norm_std=[127.5], label_file_paths=[_TFLITE_LABEL_PATH])\n",
        "writer_utils.save_file(writer.populate(), _TFLITE_MODEL_WITH_METADATA_PATH)"
      ]
    },
    {
      "cell_type": "markdown",
      "metadata": {
        "id": "YFEAjRBdPCQb"
      },
      "source": [
        "Optional: Print out the metadata added to the TFLite model."
      ]
    },
    {
      "cell_type": "code",
      "execution_count": null,
      "metadata": {
        "id": "FT3-38PJsSOt"
      },
      "outputs": [],
      "source": [
        "from tflite_support import metadata\n",
        "\n",
        "displayer = metadata.MetadataDisplayer.with_model_file(_TFLITE_MODEL_WITH_METADATA_PATH)\n",
        "print(\"Metadata populated:\")\n",
        "print(displayer.get_metadata_json())\n",
        "print(\"=============================\")\n",
        "print(\"Associated file(s) populated:\")\n",
        "print(displayer.get_packed_associated_file_list())"
      ]
    }
  ],
  "metadata": {
    "colab": {
      "collapsed_sections": [],
      "name": "Convert TF Object Detection API model to TFLite.ipynb",
      "private_outputs": true,
      "provenance": []
    },
    "kernelspec": {
      "display_name": "Python 3",
      "name": "python3"
    },
    "language_info": {
      "name": "python"
    },
    "accelerator": "GPU"
  },
  "nbformat": 4,
  "nbformat_minor": 0
}